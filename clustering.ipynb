{
 "cells": [
  {
   "cell_type": "code",
   "execution_count": null,
   "metadata": {},
   "outputs": [],
   "source": [
    "#imports\n",
    "import pandas as pd\n",
    "import numpy as np\n",
    "import matplotlib.pyplot as plt\n",
    "from sklearn.cluster import KMeans\n",
    "from sklearn.preprocessing import StandardScaler\n",
    "from sklearn.decomposition import PCA\n",
    "import matplotlib.pyplot as plt\n",
    "from IPython.display import clear_output\n",
    "import pandas as pd\n",
    "import scipy.stats as stats\n",
    "import seaborn as sns"
   ]
  },
  {
   "cell_type": "code",
   "execution_count": null,
   "metadata": {},
   "outputs": [],
   "source": [
    "#Importing original dataset via CSV (https://archive.ics.uci.edu/dataset/468/online+shoppers+purchasing+intention+dataset)\n",
    "import pandas as pd\n",
    "def load_dataset(csv):\n",
    "  df = pd.read_csv(csv)\n",
    "  return df\n",
    "csv = 'Datasets/train_online_shoppers_intention.csv'\n",
    "df = load_dataset(csv)\n",
    "\n",
    "#Removing Outliers of excessively high session duration \n",
    "def remove_outliers_iqr(df):\n",
    "    # Calculate Q1 (25th percentile) and Q3 (75th percentile)\n",
    "    Q1 = df['SessionDuration'].quantile(0.25)\n",
    "    Q3 = df['SessionDuration'].quantile(0.75)\n",
    "    IQR = Q3 - Q1\n",
    "    upper_bound = Q3 + 1.5 * IQR\n",
    "    df_no_outliers = df[(df <= upper_bound)].dropna()\n",
    "    return df_no_outliers\n",
    "# Remove outliers from the dataset\n",
    "sessions = remove_outliers_iqr(df)\n",
    "\n",
    "#Dropping values that are binary as un important for clustering\n",
    "sessions.drop('VisitorType_New_Visitor', axis=1, inplace=True)\n",
    "sessions.drop('VisitorType_Returning_Visitor', axis=1, inplace=True)\n",
    "sessions.drop('VisitorType_Other', axis=1, inplace=True)\n",
    "sessions.drop('SpecialDay', axis=1, inplace=True)\n",
    "sessions.drop('Weekend', axis=1, inplace=True)\n",
    "#print((sessions['Revenue']==1).sum())"
   ]
  },
  {
   "cell_type": "code",
   "execution_count": null,
   "metadata": {},
   "outputs": [],
   "source": [
    "#How many K Means we should use with Elbow Method\n",
    "from sklearn.cluster import KMeans\n",
    "def elbow_method(data, max_k):\n",
    "  inertias = []\n",
    "  for i in range(1, max_k):\n",
    "    kmeans = KMeans(n_clusters=i)\n",
    "    kmeans.fit(data)\n",
    "    inertias.append(kmeans.inertia_)\n",
    "  \n",
    "  plt.plot(range(1, max_k), inertias, 'o-')\n",
    "  plt.title('Elbow Method')\n",
    "  plt.xlabel('Number of clusters')\n",
    "  plt.ylabel('Inertia')\n",
    "  plt.grid(True)\n",
    "  plt.show()\n",
    "\n",
    "elbow_method(sessions, 15)"
   ]
  },
  {
   "cell_type": "code",
   "execution_count": null,
   "metadata": {},
   "outputs": [],
   "source": [
    "# Performing KMeans clustering\n",
    "from sklearn.cluster import KMeans\n",
    "import pandas as pd\n",
    "kmeans = KMeans(n_clusters=6, random_state=42)\n",
    "kmeans.fit(sessions)\n",
    "\n",
    "sk_centroids = kmeans.cluster_centers_  # Cluster centroids\n",
    "sk_labels = kmeans.labels_  # Cluster labels for each data point\n",
    "\n",
    "#Adding clusters to sessions\n",
    "sessions['Cluster'] = sk_labels\n",
    "\n",
    "# Display centroids and sample data points\n",
    "centroid_df = pd.DataFrame(sk_centroids, columns=sessions.columns[:])  # Adjust for the added 'Cluster' column\n",
    "print(\"Centroids Overview:\\n\", centroid_df)\n"
   ]
  },
  {
   "cell_type": "code",
   "execution_count": null,
   "metadata": {},
   "outputs": [],
   "source": [
    "#USING ANOVA to see statistical difference between the means of each feature across the clusters\n",
    "results = {}\n",
    "num_clusters = len(set(sk_labels))  # Get the number of unique clusters in `sk_labels`\n",
    "for feature in sessions.columns:\n",
    "    if feature != 'labels':\n",
    "        feature_data = [sessions[sk_labels == i][feature] for i in range(num_clusters) if len(sessions[sk_labels == i]) > 0]\n",
    "        if all(len(data) > 1 for data in feature_data) and len(feature_data) > 1:\n",
    "            # Perform ANOVA for the current feature across all centroids (clusters)\n",
    "            stat, p_value = stats.f_oneway(*feature_data)\n",
    "            # Store the p-value in the results dictionary\n",
    "            results[feature] = p_value\n",
    "        else:\n",
    "            print(f\"Not enough data for ANOVA in feature '{feature}'\")\n",
    "\n",
    "# Initialize a dictionary to store only the significant features\n",
    "significant_features = {feature: p_value for feature, p_value in results.items() if p_value < 0.05}\n",
    "\n",
    "# Print the significant features\n",
    "print(\"Significant Features:\", significant_features)"
   ]
  },
  {
   "cell_type": "code",
   "execution_count": null,
   "metadata": {},
   "outputs": [],
   "source": [
    "#Grouping the data by clusters for visualization\n",
    "import matplotlib.pyplot as plt\n",
    "grouped = sessions.groupby('Cluster')\n",
    "\n",
    "# Calculate descriptive statistics for each cluster\n",
    "cluster_summary = grouped.agg(['mean', 'median', 'std', 'min', 'max'])\n",
    "\n",
    "# Display the summary statistics for each cluster\n",
    "for cluster_id, cluster_data in grouped:\n",
    "    print(f\"Cluster {cluster_id} Summary:\")\n",
    "    print(cluster_data.describe())  # Summary of each cluster\n",
    "    print(\"\\n\")\n",
    "\n",
    "# Plot the mean value of each feature for each cluster\n",
    "cluster_means = grouped.mean()\n",
    "cluster_means.plot(kind='bar', figsize=(12, 6), title=\"Mean Values of Features by Cluster\")\n",
    "plt.ylabel(\"Mean Value\")\n",
    "plt.xlabel(\"Cluster\")\n",
    "plt.xticks(rotation=0)\n",
    "plt.show()\n"
   ]
  },
  {
   "cell_type": "code",
   "execution_count": null,
   "metadata": {},
   "outputs": [
    {
     "ename": "NameError",
     "evalue": "name 'sessions' is not defined",
     "output_type": "error",
     "traceback": [
      "\u001b[1;31m---------------------------------------------------------------------------\u001b[0m",
      "\u001b[1;31mNameError\u001b[0m                                 Traceback (most recent call last)",
      "Cell \u001b[1;32mIn[1], line 4\u001b[0m\n\u001b[0;32m      2\u001b[0m features\u001b[38;5;241m=\u001b[39m[\u001b[38;5;124m'\u001b[39m\u001b[38;5;124mRevenue\u001b[39m\u001b[38;5;124m'\u001b[39m, \u001b[38;5;124m'\u001b[39m\u001b[38;5;124mSessionDuration\u001b[39m\u001b[38;5;124m'\u001b[39m, \u001b[38;5;124m'\u001b[39m\u001b[38;5;124mTotalPagesViewed\u001b[39m\u001b[38;5;124m'\u001b[39m, \u001b[38;5;124m'\u001b[39m\u001b[38;5;124mBounceRates\u001b[39m\u001b[38;5;124m'\u001b[39m, \u001b[38;5;124m'\u001b[39m\u001b[38;5;124mExitRates\u001b[39m\u001b[38;5;124m'\u001b[39m, \u001b[38;5;124m'\u001b[39m\u001b[38;5;124mPageValues\u001b[39m\u001b[38;5;124m'\u001b[39m, \u001b[38;5;124m'\u001b[39m\u001b[38;5;124mMonth\u001b[39m\u001b[38;5;124m'\u001b[39m, \u001b[38;5;124m'\u001b[39m\u001b[38;5;124mOperatingSystems\u001b[39m\u001b[38;5;124m'\u001b[39m, \u001b[38;5;124m'\u001b[39m\u001b[38;5;124mBrowser\u001b[39m\u001b[38;5;124m'\u001b[39m, \u001b[38;5;124m'\u001b[39m\u001b[38;5;124mRegion\u001b[39m\u001b[38;5;124m'\u001b[39m, \u001b[38;5;124m'\u001b[39m\u001b[38;5;124mTrafficType\u001b[39m\u001b[38;5;124m'\u001b[39m, \u001b[38;5;124m'\u001b[39m\u001b[38;5;124mWeekend\u001b[39m\u001b[38;5;124m'\u001b[39m, \u001b[38;5;124m'\u001b[39m\u001b[38;5;124mVisitorType_New_Visitor\u001b[39m\u001b[38;5;124m'\u001b[39m, \u001b[38;5;124m'\u001b[39m\u001b[38;5;124mVisitorType_Other\u001b[39m\u001b[38;5;124m'\u001b[39m, \u001b[38;5;124m'\u001b[39m\u001b[38;5;124mVisitorType_Returning_Visitor\u001b[39m\u001b[38;5;124m'\u001b[39m]\n\u001b[0;32m      3\u001b[0m \u001b[38;5;66;03m#View the values in each Cluster if meaningful*\u001b[39;00m\n\u001b[1;32m----> 4\u001b[0m \u001b[38;5;28mprint\u001b[39m(\u001b[43msessions\u001b[49m\u001b[38;5;241m.\u001b[39mloc[sessions[\u001b[38;5;124m'\u001b[39m\u001b[38;5;124mCluster\u001b[39m\u001b[38;5;124m'\u001b[39m] \u001b[38;5;241m==\u001b[39m \u001b[38;5;241m5\u001b[39m, \u001b[38;5;124m'\u001b[39m\u001b[38;5;124mPageValues\u001b[39m\u001b[38;5;124m'\u001b[39m])\n\u001b[0;32m      6\u001b[0m \u001b[38;5;28mprint\u001b[39m(\u001b[38;5;124m\"\u001b[39m\u001b[38;5;130;01m\\n\u001b[39;00m\u001b[38;5;124mSample Data Points from Each Cluster:\u001b[39m\u001b[38;5;124m\"\u001b[39m)\n\u001b[0;32m      7\u001b[0m \u001b[38;5;28;01mfor\u001b[39;00m cluster_id \u001b[38;5;129;01min\u001b[39;00m centroid_df\u001b[38;5;241m.\u001b[39mindex:\n",
      "\u001b[1;31mNameError\u001b[0m: name 'sessions' is not defined"
     ]
    }
   ],
   "source": [
    "#Used to identify individual sessions in the columns as an overview\n",
    "features=['Revenue', 'SessionDuration', 'TotalPagesViewed', 'BounceRates', 'ExitRates', 'PageValues', 'Month', 'OperatingSystems', 'Browser', 'Region', 'TrafficType', 'Weekend', 'VisitorType_New_Visitor', 'VisitorType_Other', 'VisitorType_Returning_Visitor']\n",
    "#View the values in each Cluster if meaningful*\n",
    "print(sessions.loc[sessions['Cluster'] == 5, 'PageValues'])\n",
    "\n",
    "print(\"\\nSample Data Points from Each Cluster:\")\n",
    "for cluster_id in centroid_df.index:\n",
    "    print(f\"\\nCluster {cluster_id}:\\n\", sessions[sessions['Cluster'] == cluster_id].head())"
   ]
  },
  {
   "cell_type": "code",
   "execution_count": null,
   "metadata": {},
   "outputs": [],
   "source": [
    "#Seeing how much revenue is attributed to each cluster\n",
    "print(\"Cluster 0, % values generated revenue:\",sessions[(sessions['Cluster']==0)&(sessions['Revenue']==1)].shape[0]/(sessions['Cluster']==0).sum())\n",
    "print(\"Cluster 1, % values generated revenue:\",sessions[(sessions['Cluster']==1)&(sessions['Revenue']==1)].shape[0]/(sessions['Cluster']==1).sum())\n",
    "print(\"Cluster 2, % values generated revenue:\",sessions[(sessions['Cluster']==2)&(sessions['Revenue']==1)].shape[0]/(sessions['Cluster']==2).sum())\n",
    "print(\"Cluster 3, % values generated revenue:\",sessions[(sessions['Cluster']==3)&(sessions['Revenue']==1)].shape[0]/(sessions['Cluster']==3).sum())\n",
    "print(\"Cluster 4, % values generated revenue:\",sessions[(sessions['Cluster']==4)&(sessions['Revenue']==1)].shape[0]/(sessions['Cluster']==4).sum())\n",
    "print(\"Cluster 5, % values generated revenue:\",sessions[(sessions['Cluster']==5)&(sessions['Revenue']==1)].shape[0]/(sessions['Cluster']==5).sum())\n",
    "#print(\"Cluster 6, % values generated revenue:\",sessions[(sessions['Cluster']==6)&(sessions['Revenue']==1)].shape[0]/(sessions['Cluster']==6).sum())\n",
    "#print(\"Cluster 7, % values generated revenue:\",sessions[(sessions['Cluster']==7)&(sessions['Revenue']==1)].shape[0]/(sessions['Cluster']==7).sum())"
   ]
  }
 ],
 "metadata": {
  "kernelspec": {
   "display_name": "Python 3",
   "language": "python",
   "name": "python3"
  },
  "language_info": {
   "codemirror_mode": {
    "name": "ipython",
    "version": 3
   },
   "file_extension": ".py",
   "mimetype": "text/x-python",
   "name": "python",
   "nbconvert_exporter": "python",
   "pygments_lexer": "ipython3",
   "version": "3.12.5"
  }
 },
 "nbformat": 4,
 "nbformat_minor": 2
}
