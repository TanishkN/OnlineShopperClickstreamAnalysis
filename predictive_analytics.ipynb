{
 "cells": [
  {
   "cell_type": "code",
   "execution_count": null,
   "metadata": {},
   "outputs": [],
   "source": [
    "from sklearn.tree import DecisionTreeClassifier\n",
    "from sklearn.metrics import confusion_matrix\n",
    "import seaborn as sns\n",
    "target = 'Revenue'\n",
    "def decision_tree(train,test):\n",
    "    x_train=train.drop(columns=[target])\n",
    "    y_train=train[target]\n",
    "    x_test = test.drop(target, axis=1)  # Replace 'target_column' with your target variable\n",
    "    y_test = test[target]\n",
    "    model = DecisionTreeClassifier()\n",
    "    model.fit(x_train, y_train)\n",
    "    y_pred = model.predict(x_test)\n",
    "    feature_importances = pd.DataFrame({\n",
    "        'feature': x_train.columns,\n",
    "        'importance': model.feature_importances_\n",
    "    }).sort_values(by='importance', ascending=False).reset_index(drop=True)\n",
    "    return y_test, y_pred, feature_importances\n",
    "\n",
    "#Gathering dataset\n",
    "#train_data1=load_dataset('SMOTE_files/SM_all_1_train.csv')\n",
    "#y_test, y_pred = decision_tree(train_data1)\n",
    "\n",
    "#print(df1_dt)\n",
    "#accuracy = accuracy_score(y_test, y_pred)\n",
    "#print(\"Test set accuracy:\", accuracy)"
   ]
  },
  {
   "cell_type": "code",
   "execution_count": 71,
   "metadata": {},
   "outputs": [
    {
     "name": "stdout",
     "output_type": "stream",
     "text": [
      "File: SMOTE_files/SM_all_1_train.csv\n"
     ]
    },
    {
     "ename": "NameError",
     "evalue": "name 'x_train' is not defined",
     "output_type": "error",
     "traceback": [
      "\u001b[1;31m---------------------------------------------------------------------------\u001b[0m",
      "\u001b[1;31mNameError\u001b[0m                                 Traceback (most recent call last)",
      "Cell \u001b[1;32mIn[71], line 18\u001b[0m\n\u001b[0;32m     16\u001b[0m \u001b[38;5;28;01mif\u001b[39;00m df \u001b[38;5;129;01mis\u001b[39;00m \u001b[38;5;129;01mnot\u001b[39;00m \u001b[38;5;28;01mNone\u001b[39;00m:\n\u001b[0;32m     17\u001b[0m   \u001b[38;5;28mprint\u001b[39m(\u001b[38;5;124mf\u001b[39m\u001b[38;5;124m\"\u001b[39m\u001b[38;5;124mFile: \u001b[39m\u001b[38;5;132;01m{\u001b[39;00mfile\u001b[38;5;132;01m}\u001b[39;00m\u001b[38;5;124m\"\u001b[39m)\n\u001b[1;32m---> 18\u001b[0m   y_test, y_pred, feature_importances \u001b[38;5;241m=\u001b[39m \u001b[43mdecision_tree\u001b[49m\u001b[43m(\u001b[49m\u001b[43mdf\u001b[49m\u001b[43m,\u001b[49m\u001b[43mtest_data\u001b[49m\u001b[43m)\u001b[49m\n\u001b[0;32m     19\u001b[0m   \u001b[38;5;66;03m#display(df.head())\u001b[39;00m\n\u001b[0;32m     20\u001b[0m   \u001b[38;5;66;03m# Create a DataFrame to display y_test and y_pred side by side\u001b[39;00m\n\u001b[0;32m     21\u001b[0m   results_df \u001b[38;5;241m=\u001b[39m pd\u001b[38;5;241m.\u001b[39mDataFrame({\u001b[38;5;124m'\u001b[39m\u001b[38;5;124mActual\u001b[39m\u001b[38;5;124m'\u001b[39m: y_test, \u001b[38;5;124m'\u001b[39m\u001b[38;5;124mPredicted\u001b[39m\u001b[38;5;124m'\u001b[39m: y_pred})\n",
      "Cell \u001b[1;32mIn[70], line 12\u001b[0m, in \u001b[0;36mdecision_tree\u001b[1;34m(train, test)\u001b[0m\n\u001b[0;32m     10\u001b[0m y_test \u001b[38;5;241m=\u001b[39m test[target]\n\u001b[0;32m     11\u001b[0m model \u001b[38;5;241m=\u001b[39m DecisionTreeClassifier()\n\u001b[1;32m---> 12\u001b[0m model\u001b[38;5;241m.\u001b[39mfit(\u001b[43mx_train\u001b[49m, y_train)\n\u001b[0;32m     13\u001b[0m y_pred \u001b[38;5;241m=\u001b[39m model\u001b[38;5;241m.\u001b[39mpredict(x_test)\n\u001b[0;32m     14\u001b[0m feature_importances \u001b[38;5;241m=\u001b[39m pd\u001b[38;5;241m.\u001b[39mDataFrame({\n\u001b[0;32m     15\u001b[0m     \u001b[38;5;124m'\u001b[39m\u001b[38;5;124mfeature\u001b[39m\u001b[38;5;124m'\u001b[39m: x_train\u001b[38;5;241m.\u001b[39mcolumns,\n\u001b[0;32m     16\u001b[0m     \u001b[38;5;124m'\u001b[39m\u001b[38;5;124mimportance\u001b[39m\u001b[38;5;124m'\u001b[39m: model\u001b[38;5;241m.\u001b[39mfeature_importances_\n\u001b[0;32m     17\u001b[0m })\u001b[38;5;241m.\u001b[39msort_values(by\u001b[38;5;241m=\u001b[39m\u001b[38;5;124m'\u001b[39m\u001b[38;5;124mimportance\u001b[39m\u001b[38;5;124m'\u001b[39m, ascending\u001b[38;5;241m=\u001b[39m\u001b[38;5;28;01mFalse\u001b[39;00m)\u001b[38;5;241m.\u001b[39mreset_index(drop\u001b[38;5;241m=\u001b[39m\u001b[38;5;28;01mTrue\u001b[39;00m)\n",
      "\u001b[1;31mNameError\u001b[0m: name 'x_train' is not defined"
     ]
    }
   ],
   "source": [
    "#Imports the data from each of the 10 folds of the SMOTE dataset and displays the first 5 rows of each fold\n",
    "import pandas as pd\n",
    "import os\n",
    "from IPython.display import display\n",
    "def load_dataset(csv):\n",
    "  df = pd.read_csv(csv)\n",
    "  return df\n",
    "\n",
    "test_data = pd.read_csv('Test_Set_Files/test_osi.csv') # test set stays the same\n",
    "\n",
    "dt_predictions = {}\n",
    "kfold = ['1', '2', '3', '4', '5', '6', '7', '8', '9', '10']\n",
    "for k in kfold:\n",
    "  file = f'SMOTE_files/SM_all_{k}_train.csv'\n",
    "  df = load_dataset(file)\n",
    "  if df is not None:\n",
    "    print(f\"File: {file}\")\n",
    "    y_test, y_pred, feature_importances = decision_tree(df,test_data)\n",
    "    #display(df.head())\n",
    "    # Create a DataFrame to display y_test and y_pred side by side\n",
    "    results_df = pd.DataFrame({'Actual': y_test, 'Predicted': y_pred})\n",
    "    dt_predictions[k] = results_df\n",
    "    print(file)\n",
    "    print(feature_importances)\n",
    "    #display(dt_predictions[k])\n",
    "  else:\n",
    "    print(f\"File {file} not found or is empty.\")\n",
    "\n"
   ]
  },
  {
   "cell_type": "code",
   "execution_count": null,
   "metadata": {},
   "outputs": [],
   "source": []
  },
  {
   "cell_type": "code",
   "execution_count": 67,
   "metadata": {},
   "outputs": [
    {
     "name": "stdout",
     "output_type": "stream",
     "text": [
      "Avg. True Positive across all folds 242.1\n",
      "Avg. True Negatives across all folds 1832.2\n",
      "Avg. False Negatives across all folds 139.9\n",
      "Avg. False Positive across all folds 251.8\n",
      "Accuracy: 0.8411597729115977\n",
      "F1 Score: 0.5528028313734444\n",
      "Precision: 0.49018019842073296\n",
      "Recall: 0.6337696335078534\n",
      "True Positive Rate: 0.6337696335078534\n",
      "False Positive Rate: 0.1208253358925144\n",
      "False Negative Rate: 0.3662303664921466\n"
     ]
    }
   ],
   "source": [
    "# Calculate the average accuracy of the decision tree predictions across all folds\n",
    "accuracy = 0\n",
    "tp = 0\n",
    "tn = 0\n",
    "fp = 0\n",
    "fn = 0\n",
    "\n",
    "for k, results in dt_predictions.items():\n",
    "    tp += ((results['Actual'] == 1) & (results['Predicted'] == 1)).sum() # True Positives\n",
    "    tn += ((results['Actual'] == 0) & (results['Predicted'] == 0)).sum() # True Negatives\n",
    "    fn += ((results['Actual'] == 1) & (results['Predicted'] == 0)).sum() # False Negatives\n",
    "    fp += ((results['Actual'] == 0) & (results['Predicted'] == 1)).sum() # False Positives\n",
    "avgtp = tp / len(dt_predictions)\n",
    "avgtn = tn / len(dt_predictions)\n",
    "avgfn = fn / len(dt_predictions)\n",
    "avgfp = fp / len(dt_predictions)\n",
    "\n",
    "#print(\"Average accuracy across all folds:\", accuracy)\n",
    "#print(\"True Positive Values across Dictionary\", tp)\n",
    "print(\"Avg. True Positive across all folds\",avgtp) #Average True Positives across all folds\n",
    "#print(\"True Negative Values across Dictionary\", tn)\n",
    "print(\"Avg. True Negatives across all folds\",avgtn) \n",
    "#print(\"False Negative Values across Dictionary\", fn)\n",
    "print(\"Avg. False Negatives across all folds\",avgfn)\n",
    "#print(\"False Positive Values across Dictionary\", fp)\n",
    "print(\"Avg. False Positive across all folds\",avgfp)\n",
    "\n",
    "accuracy = (tp + tn) / (tp + tn + fp + fn)\n",
    "f1_score = (2 * tp) / (2 * tp + fp + fn)\n",
    "precision = tp / (tp + fp)\n",
    "recall = tp / (tp + fn)\n",
    "true_positive_rate = tp / (tp + fn)\n",
    "false_positive_rate = fp / (fp + tn)\n",
    "false_negative_rate = fn / (fn + tp)\n",
    "\n",
    "print(\"Accuracy:\", accuracy)\n",
    "print(\"F1 Score:\", f1_score)\n",
    "print(\"Precision:\", precision)\n",
    "print(\"Recall:\", recall)\n",
    "print(\"True Positive Rate:\", true_positive_rate)\n",
    "print(\"False Positive Rate:\", false_positive_rate)\n",
    "print(\"False Negative Rate:\", false_negative_rate)\n",
    "\n"
   ]
  },
  {
   "cell_type": "code",
   "execution_count": null,
   "metadata": {},
   "outputs": [],
   "source": [
    "#Confusion Matrix to test Results\n",
    "import matplotlib.pyplot as plt\n",
    "\n",
    "# Generate the confusion matrix\n",
    "cm = confusion_matrix(y_test, y_pred)\n",
    "\n",
    "# Create a heatmap to visualize the confusion matrix\n",
    "plt.figure(figsize=(10, 7))\n",
    "sns.heatmap(cm, annot=True, fmt='d', cmap='Blues', xticklabels=['Predicted Negative', 'Predicted Positive'], yticklabels=['Actual Negative', 'Actual Positive'])\n",
    "plt.xlabel('Predicted')\n",
    "plt.ylabel('Actual')\n",
    "plt.title('Confusion Matrix')\n",
    "plt.show()"
   ]
  },
  {
   "cell_type": "code",
   "execution_count": null,
   "metadata": {},
   "outputs": [],
   "source": [
    "#Count of Values in each Dataset\n",
    "df = load_dataset('train_online_shoppers_intention.csv')\n",
    "print(df.shape[0])\n",
    "\n",
    "df1 = load_dataset('Test_Set_Files/test_osi.csv')\n",
    "print(df1.shape[0])\n",
    "print(df.shape[0]+df1.shape[0])\n",
    "print(\"Rev Counts in overall Train set\",df['Revenue'].value_counts())\n",
    "\n",
    "dfSmote = load_dataset('SMOTE_files/SM_all_1_train.csv')\n",
    "print(dfSmote.shape[0])\n",
    "\n"
   ]
  }
 ],
 "metadata": {
  "kernelspec": {
   "display_name": "Python 3",
   "language": "python",
   "name": "python3"
  },
  "language_info": {
   "codemirror_mode": {
    "name": "ipython",
    "version": 3
   },
   "file_extension": ".py",
   "mimetype": "text/x-python",
   "name": "python",
   "nbconvert_exporter": "python",
   "pygments_lexer": "ipython3",
   "version": "3.12.5"
  }
 },
 "nbformat": 4,
 "nbformat_minor": 2
}
